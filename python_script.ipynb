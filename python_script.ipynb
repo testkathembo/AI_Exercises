{
 "cells": [
  {
   "cell_type": "code",
   "execution_count": 4,
   "metadata": {},
   "outputs": [
    {
     "name": "stdout",
     "output_type": "stream",
     "text": [
      "5 4\n",
      "5 4\n"
     ]
    }
   ],
   "source": [
    "# Class in Python\n",
    "class Point:\n",
    "    x= 5\n",
    "    y= 4\n",
    "    def setCoordinates(self, x, y): ##\n",
    "        self.x\n",
    "        self.y\n",
    "    \n",
    "p1 = Point()\n",
    "p2 = Point()\n",
    "\n",
    "p1.setCoordinates(10,20)\n",
    "p2.setCoordinates(5,54)\n",
    "\n",
    "print(p1.x, p1.y)\n",
    "print(p2.x, p2.y)\n",
    "\n",
    "\n"
   ]
  },
  {
   "cell_type": "code",
   "execution_count": 8,
   "metadata": {},
   "outputs": [
    {
     "name": "stdout",
     "output_type": "stream",
     "text": [
      "100 25\n",
      "0 99\n"
     ]
    }
   ],
   "source": [
    "# Constructor===> Use __init__ to create the constructor\n",
    "# Remember that contructor in python will always an extra variable (role of self,...). this is used to call variables.\n",
    "class Point:\n",
    "    def __init__(self,x=0,y=0):\n",
    "        self.x = x\n",
    "        self.y = y\n",
    "  \n",
    "p1 = Point(100, 25)\n",
    "p2 = Point(y=99)\n",
    "\n",
    "print(p1.x, p1.y)\n",
    "print(p2.x, p2.y)"
   ]
  },
  {
   "cell_type": "code",
   "execution_count": null,
   "metadata": {},
   "outputs": [],
   "source": [
    "# Access Modifiers\n",
    "public: variable = 5\n",
    "protected used with one underscore and the begining of the variable: _variable = 15\n",
    "Private used with a double underscore at the begining of the varible. __Variable = 20\n",
    "\n"
   ]
  },
  {
   "cell_type": "code",
   "execution_count": null,
   "metadata": {},
   "outputs": [],
   "source": [
    "# Inheritance\n",
    "#create a class from another class\n",
    "\n",
    "class Animal:\n",
    "    def __init__(self, name):\n",
    "        self.name = name\n",
    "        \n",
    "    def speak(speak):\n",
    "        pass\n",
    "    \n",
    "class Dog(Animal):\n",
    "    def seak(selg):\n",
    "        \n",
    "        \n",
    "id __name__ == \"__name__\":"
   ]
  },
  {
   "cell_type": "code",
   "execution_count": null,
   "metadata": {},
   "outputs": [],
   "source": [
    "#  Polymorphism\n",
    "\n",
    "import random\n",
    "import math\n",
    "\n",
    "# Base class for shapes\n",
    "class Shape:\n",
    "    def computeArea(self):\n",
    "        pass  # To be implemented by each specific shape class\n",
    "    \n",
    "    def __str__(self):\n",
    "        return self.__class__.__name__  # Return the class name for representation\n",
    "\n",
    "# Rectangle class\n",
    "class Rectangle(Shape):\n",
    "    def __init__(self, width, height):\n",
    "        self.width = width\n",
    "        self.height = height\n",
    "    \n",
    "    def computeArea(self):\n",
    "        return self.width * self.height\n",
    "    \n",
    "    def __str__(self):\n",
    "        return f\"Rectangle(width={self.width}, height={self.height})\"\n",
    "\n",
    "# Circle class\n",
    "class Circle(Shape):\n",
    "    def __init__(self, radius):\n",
    "        self.radius = radius\n",
    "    \n",
    "    def computeArea(self):\n",
    "        return math.pi * self.radius ** 2\n",
    "    \n",
    "    def __str__(self):\n",
    "        return f\"Circle(radius={self.radius})\"\n",
    "\n",
    "# Square class (inherits from Rectangle)\n",
    "class Square(Rectangle):\n",
    "    def __init__(self, side_length):\n",
    "        super().__init__(side_length, side_length)\n",
    "    \n",
    "    def __str__(self):\n",
    "        return f\"Square(side_length={self.width})\"\n",
    "\n",
    "# Create a list of 100 random shapes\n",
    "def create_random_shapes(num_shapes=100):\n",
    "    shapes = []\n",
    "    for _ in range(num_shapes):\n",
    "        shape_type = random.choice([Rectangle, Circle, Square])\n",
    "        if shape_type == Rectangle:\n",
    "            width = random.uniform(1, 10)\n",
    "            height = random.uniform(1, 10)\n",
    "            shapes.append(Rectangle(width, height))\n",
    "        elif shape_type == Circle:\n",
    "            radius = random.uniform(1, 10)\n",
    "            shapes.append(Circle(radius))\n",
    "        elif shape_type == Square:\n",
    "            side_length = random.uniform(1, 10)\n",
    "            shapes.append(Square(side_length))\n",
    "    return shapes\n",
    "\n",
    "# Calculate the sum of areas of the shapes\n",
    "def compute_total_area(shapes):\n",
    "    total_area = 0\n",
    "    for shape in shapes:\n",
    "        total_area += shape.computeArea()\n",
    "    return total_area\n",
    "\n",
    "# Main program\n",
    "random_shapes = create_random_shapes()\n",
    "for shape in random_shapes:\n",
    "    print(f\"{shape}: Area = {shape.computeArea()}\")\n",
    "\n",
    "total_area = compute_total_area(random_shapes)\n",
    "print(f\"\\nTotal area of all shapes: {total_area:.2f}\")\n"
   ]
  }
 ],
 "metadata": {
  "kernelspec": {
   "display_name": "Python 3",
   "language": "python",
   "name": "python3"
  },
  "language_info": {
   "codemirror_mode": {
    "name": "ipython",
    "version": 3
   },
   "file_extension": ".py",
   "mimetype": "text/x-python",
   "name": "python",
   "nbconvert_exporter": "python",
   "pygments_lexer": "ipython3",
   "version": "3.12.5"
  }
 },
 "nbformat": 4,
 "nbformat_minor": 2
}
