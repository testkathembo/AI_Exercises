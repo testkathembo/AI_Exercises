{
 "cells": [
  {
   "cell_type": "markdown",
   "id": "cca712be",
   "metadata": {},
   "source": [
    "# Linear and polynomial regression examples:\n",
    "\n",
    "For the same data, we will estimate a linear model, and a polynomial model :\n",
    "### Expected linear model (obtained from Excel):\n",
    "y = -0,052x + 62,561\n",
    "\n",
    "### Expected Polynomial with degree 2 model (obtained also from Excel):\n",
    "y = 0,0214 x<sup>2</sup> - 2,1948 x + 96,306"
   ]
  },
  {
   "cell_type": "markdown",
   "id": "b89a3ea6",
   "metadata": {},
   "source": [
    "## Python Code :"
   ]
  },
  {
   "cell_type": "markdown",
   "id": "14f5e068",
   "metadata": {},
   "source": [
    "Import python moodules :"
   ]
  },
  {
   "cell_type": "code",
   "execution_count": 1,
   "id": "3f557c5f",
   "metadata": {},
   "outputs": [],
   "source": []
  },
  {
   "cell_type": "markdown",
   "id": "55f0aaa1",
   "metadata": {},
   "source": [
    "Load the data file  (directly with loadtxt or using pandas) :"
   ]
  },
  {
   "cell_type": "code",
   "execution_count": 2,
   "id": "e3facec5",
   "metadata": {},
   "outputs": [],
   "source": []
  },
  {
   "cell_type": "markdown",
   "id": "a0e888d7",
   "metadata": {},
   "source": [
    "Print your data"
   ]
  },
  {
   "cell_type": "code",
   "execution_count": null,
   "id": "e64d9c35",
   "metadata": {},
   "outputs": [],
   "source": []
  },
  {
   "cell_type": "markdown",
   "id": "afa9b466",
   "metadata": {},
   "source": [
    "Print the data shape"
   ]
  },
  {
   "cell_type": "code",
   "execution_count": null,
   "id": "a3646991-e789-450b-aaca-bed1a45c27ef",
   "metadata": {},
   "outputs": [],
   "source": []
  },
  {
   "cell_type": "markdown",
   "id": "cecfe4dc",
   "metadata": {},
   "source": [
    "Prepare your inputs and outputs"
   ]
  },
  {
   "cell_type": "code",
   "execution_count": 9,
   "id": "0281e89c",
   "metadata": {},
   "outputs": [],
   "source": []
  },
  {
   "cell_type": "markdown",
   "id": "1c83ad23",
   "metadata": {},
   "source": [
    "Visualize the data in a scatter plot"
   ]
  },
  {
   "cell_type": "code",
   "execution_count": null,
   "id": "b48b34eb",
   "metadata": {},
   "outputs": [],
   "source": []
  },
  {
   "cell_type": "markdown",
   "id": "08edcefa",
   "metadata": {},
   "source": [
    "Instanciate a linear regression model"
   ]
  },
  {
   "cell_type": "code",
   "execution_count": 14,
   "id": "8369cb78",
   "metadata": {},
   "outputs": [],
   "source": []
  },
  {
   "cell_type": "markdown",
   "id": "cb294d58",
   "metadata": {},
   "source": [
    "Convert X from 1D to 2D (if necessary) :"
   ]
  },
  {
   "cell_type": "code",
   "execution_count": null,
   "id": "f807c2b1",
   "metadata": {},
   "outputs": [],
   "source": []
  },
  {
   "cell_type": "markdown",
   "id": "6efbd7b9",
   "metadata": {},
   "source": [
    "Train (Fit) your model"
   ]
  },
  {
   "cell_type": "code",
   "execution_count": null,
   "id": "d2b69df6",
   "metadata": {},
   "outputs": [],
   "source": []
  },
  {
   "cell_type": "markdown",
   "id": "c3effd18",
   "metadata": {},
   "source": [
    "Print the coefficient and the intercept of your regression"
   ]
  },
  {
   "cell_type": "code",
   "execution_count": null,
   "id": "71b22516",
   "metadata": {},
   "outputs": [],
   "source": []
  },
  {
   "cell_type": "code",
   "execution_count": null,
   "id": "c5717f90",
   "metadata": {},
   "outputs": [],
   "source": []
  },
  {
   "cell_type": "markdown",
   "id": "d60c82e2",
   "metadata": {},
   "source": [
    "Calculate the prediction values of your input data"
   ]
  },
  {
   "cell_type": "code",
   "execution_count": 19,
   "id": "564ecffb",
   "metadata": {},
   "outputs": [],
   "source": []
  },
  {
   "cell_type": "markdown",
   "id": "d3141002",
   "metadata": {},
   "source": [
    "Visualize in predicted values and output values in the same plot"
   ]
  },
  {
   "cell_type": "code",
   "execution_count": null,
   "id": "14d2ae86",
   "metadata": {},
   "outputs": [],
   "source": []
  },
  {
   "cell_type": "markdown",
   "id": "9f45ebc7",
   "metadata": {},
   "source": [
    "# Polynomial model"
   ]
  },
  {
   "cell_type": "markdown",
   "id": "fe13ef07",
   "metadata": {},
   "source": [
    "Train a polynomial model (2nd degree) over your data"
   ]
  },
  {
   "cell_type": "code",
   "execution_count": null,
   "id": "e474a0c5",
   "metadata": {},
   "outputs": [],
   "source": []
  },
  {
   "cell_type": "markdown",
   "id": "812db2ec",
   "metadata": {},
   "source": [
    "Predict the new corresponding value for yout inputs"
   ]
  },
  {
   "cell_type": "code",
   "execution_count": null,
   "id": "f1e93e7b",
   "metadata": {
    "scrolled": true
   },
   "outputs": [],
   "source": []
  },
  {
   "cell_type": "markdown",
   "id": "fe29a969",
   "metadata": {},
   "source": [
    "Visualize the predicted values and your output in the same plot "
   ]
  },
  {
   "cell_type": "code",
   "execution_count": null,
   "id": "1678f114",
   "metadata": {},
   "outputs": [],
   "source": []
  },
  {
   "cell_type": "markdown",
   "id": "e669d024",
   "metadata": {},
   "source": [
    "Display the coefficients of your polynom"
   ]
  },
  {
   "cell_type": "code",
   "execution_count": null,
   "id": "9095e4b3",
   "metadata": {
    "scrolled": true
   },
   "outputs": [],
   "source": []
  },
  {
   "cell_type": "code",
   "execution_count": null,
   "id": "497735c5",
   "metadata": {
    "scrolled": true
   },
   "outputs": [],
   "source": []
  },
  {
   "cell_type": "markdown",
   "id": "40ca53a8",
   "metadata": {},
   "source": [
    "# Exercice :\n",
    "Split the data into two groups (X<50 and X>=50) and apply a linear regression for each group."
   ]
  },
  {
   "cell_type": "code",
   "execution_count": null,
   "id": "45f2f8d2",
   "metadata": {},
   "outputs": [],
   "source": []
  },
  {
   "cell_type": "code",
   "execution_count": null,
   "id": "cfc7d6d9",
   "metadata": {},
   "outputs": [],
   "source": []
  },
  {
   "cell_type": "code",
   "execution_count": null,
   "id": "c60bb4f5",
   "metadata": {},
   "outputs": [],
   "source": []
  }
 ],
 "metadata": {
  "kernelspec": {
   "display_name": "Python 3 (ipykernel)",
   "language": "python",
   "name": "python3"
  },
  "language_info": {
   "codemirror_mode": {
    "name": "ipython",
    "version": 3
   },
   "file_extension": ".py",
   "mimetype": "text/x-python",
   "name": "python",
   "nbconvert_exporter": "python",
   "pygments_lexer": "ipython3",
   "version": "3.10.13"
  }
 },
 "nbformat": 4,
 "nbformat_minor": 5
}
